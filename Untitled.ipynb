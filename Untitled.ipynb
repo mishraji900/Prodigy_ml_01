{
 "cells": [
  {
   "cell_type": "markdown",
   "id": "e4a73104-66f7-48ce-a65d-5fc36d22a665",
   "metadata": {},
   "source": [
    "# house price prediction"
   ]
  },
  {
   "cell_type": "markdown",
   "id": "041d9abf-dc12-4ba7-86f5-6ebb50cdb913",
   "metadata": {},
   "source": [
    "**Imports needed**"
   ]
  },
  {
   "cell_type": "code",
   "execution_count": 1,
   "id": "df8f2888-e8ea-4f2d-91bf-d3f6cca7090a",
   "metadata": {},
   "outputs": [],
   "source": [
    "import pandas as pd\n",
    "import numpy as np\n",
    "from sklearn.model_selection import train_test_split, cross_val_score\n",
    "from sklearn.ensemble import RandomForestRegressor\n",
    "from sklearn.metrics import mean_squared_error\n",
    "from sklearn.preprocessing import MinMaxScaler\n",
    "import matplotlib.pyplot as plt"
   ]
  },
  {
   "cell_type": "markdown",
   "id": "a9678339-51f0-48f8-ba15-7a0d3a2757f9",
   "metadata": {},
   "source": [
    "**Loading data**"
   ]
  },
  {
   "cell_type": "code",
   "execution_count": 2,
   "id": "b4d0eea1-664c-49c0-aa9e-ca577f96d100",
   "metadata": {},
   "outputs": [],
   "source": [
    "column_names = ['Id', 'LotArea', 'FullBath', 'HalfBath', 'BedroomAbvGr']\n",
    "train_df = pd.read_csv('train.csv', usecols=column_names+['SalePrice'])\n",
    "test_df = pd.read_csv('test.csv', usecols=column_names)\n"
   ]
  },
  {
   "cell_type": "code",
   "execution_count": 22,
   "id": "3cf9ca71-8a21-4072-a423-9033dd7a99c5",
   "metadata": {},
   "outputs": [],
   "source": [
    "columns_to_scaletrain = ['LotArea', 'FullBath', 'HalfBath', 'BedroomAbvGr','SalePrice']\n",
    "columns_to_scaletest = ['LotArea', 'FullBath', 'HalfBath', 'BedroomAbvGr']\n",
    "\n",
    "# Instantiate the MinMaxScaler\n",
    "scaler = MinMaxScaler(feature_range=(0, 100))\n",
    "\n",
    "# Fit and transform the training data\n",
    "train_df[columns_to_scaletrain] = scaler.fit_transform(train_df[columns_to_scaletrain])\n",
    "\n",
    "# Transform the test data (using the same scaler fitted on training data)\n",
    "test_df[columns_to_scaletest] = scaler.fit_transform(test_df[columns_to_scaletest])"
   ]
  },
  {
   "cell_type": "code",
   "execution_count": 23,
   "id": "33e14ae9-6bd7-4806-a84b-5adb23053778",
   "metadata": {},
   "outputs": [
    {
     "data": {
      "text/html": [
       "<div>\n",
       "<style scoped>\n",
       "    .dataframe tbody tr th:only-of-type {\n",
       "        vertical-align: middle;\n",
       "    }\n",
       "\n",
       "    .dataframe tbody tr th {\n",
       "        vertical-align: top;\n",
       "    }\n",
       "\n",
       "    .dataframe thead th {\n",
       "        text-align: right;\n",
       "    }\n",
       "</style>\n",
       "<table border=\"1\" class=\"dataframe\">\n",
       "  <thead>\n",
       "    <tr style=\"text-align: right;\">\n",
       "      <th></th>\n",
       "      <th>Id</th>\n",
       "      <th>LotArea</th>\n",
       "      <th>FullBath</th>\n",
       "      <th>HalfBath</th>\n",
       "      <th>BedroomAbvGr</th>\n",
       "      <th>SalePrice</th>\n",
       "    </tr>\n",
       "  </thead>\n",
       "  <tbody>\n",
       "    <tr>\n",
       "      <th>0</th>\n",
       "      <td>1</td>\n",
       "      <td>3.341980</td>\n",
       "      <td>66.666667</td>\n",
       "      <td>50.0</td>\n",
       "      <td>37.5</td>\n",
       "      <td>24.107763</td>\n",
       "    </tr>\n",
       "    <tr>\n",
       "      <th>1</th>\n",
       "      <td>2</td>\n",
       "      <td>3.879502</td>\n",
       "      <td>66.666667</td>\n",
       "      <td>0.0</td>\n",
       "      <td>37.5</td>\n",
       "      <td>20.358284</td>\n",
       "    </tr>\n",
       "    <tr>\n",
       "      <th>2</th>\n",
       "      <td>3</td>\n",
       "      <td>4.650728</td>\n",
       "      <td>66.666667</td>\n",
       "      <td>50.0</td>\n",
       "      <td>37.5</td>\n",
       "      <td>26.190807</td>\n",
       "    </tr>\n",
       "    <tr>\n",
       "      <th>3</th>\n",
       "      <td>4</td>\n",
       "      <td>3.856131</td>\n",
       "      <td>33.333333</td>\n",
       "      <td>0.0</td>\n",
       "      <td>37.5</td>\n",
       "      <td>14.595195</td>\n",
       "    </tr>\n",
       "    <tr>\n",
       "      <th>4</th>\n",
       "      <td>5</td>\n",
       "      <td>6.057632</td>\n",
       "      <td>66.666667</td>\n",
       "      <td>50.0</td>\n",
       "      <td>50.0</td>\n",
       "      <td>29.870851</td>\n",
       "    </tr>\n",
       "  </tbody>\n",
       "</table>\n",
       "</div>"
      ],
      "text/plain": [
       "   Id   LotArea   FullBath  HalfBath  BedroomAbvGr  SalePrice\n",
       "0   1  3.341980  66.666667      50.0          37.5  24.107763\n",
       "1   2  3.879502  66.666667       0.0          37.5  20.358284\n",
       "2   3  4.650728  66.666667      50.0          37.5  26.190807\n",
       "3   4  3.856131  33.333333       0.0          37.5  14.595195\n",
       "4   5  6.057632  66.666667      50.0          50.0  29.870851"
      ]
     },
     "execution_count": 23,
     "metadata": {},
     "output_type": "execute_result"
    }
   ],
   "source": [
    "train_df.head()"
   ]
  },
  {
   "cell_type": "code",
   "execution_count": 24,
   "id": "4d3e12c5-aa5f-4b4e-b6cd-6b89bae4afaf",
   "metadata": {},
   "outputs": [
    {
     "data": {
      "text/html": [
       "<div>\n",
       "<style scoped>\n",
       "    .dataframe tbody tr th:only-of-type {\n",
       "        vertical-align: middle;\n",
       "    }\n",
       "\n",
       "    .dataframe tbody tr th {\n",
       "        vertical-align: top;\n",
       "    }\n",
       "\n",
       "    .dataframe thead th {\n",
       "        text-align: right;\n",
       "    }\n",
       "</style>\n",
       "<table border=\"1\" class=\"dataframe\">\n",
       "  <thead>\n",
       "    <tr style=\"text-align: right;\">\n",
       "      <th></th>\n",
       "      <th>Id</th>\n",
       "      <th>LotArea</th>\n",
       "      <th>FullBath</th>\n",
       "      <th>HalfBath</th>\n",
       "      <th>BedroomAbvGr</th>\n",
       "    </tr>\n",
       "  </thead>\n",
       "  <tbody>\n",
       "    <tr>\n",
       "      <th>0</th>\n",
       "      <td>1461</td>\n",
       "      <td>18.414656</td>\n",
       "      <td>25.0</td>\n",
       "      <td>0.0</td>\n",
       "      <td>33.333333</td>\n",
       "    </tr>\n",
       "    <tr>\n",
       "      <th>1</th>\n",
       "      <td>1462</td>\n",
       "      <td>23.212407</td>\n",
       "      <td>25.0</td>\n",
       "      <td>50.0</td>\n",
       "      <td>50.000000</td>\n",
       "    </tr>\n",
       "    <tr>\n",
       "      <th>2</th>\n",
       "      <td>1463</td>\n",
       "      <td>22.419735</td>\n",
       "      <td>50.0</td>\n",
       "      <td>50.0</td>\n",
       "      <td>50.000000</td>\n",
       "    </tr>\n",
       "    <tr>\n",
       "      <th>3</th>\n",
       "      <td>1464</td>\n",
       "      <td>15.432614</td>\n",
       "      <td>50.0</td>\n",
       "      <td>50.0</td>\n",
       "      <td>50.000000</td>\n",
       "    </tr>\n",
       "    <tr>\n",
       "      <th>4</th>\n",
       "      <td>1465</td>\n",
       "      <td>6.412117</td>\n",
       "      <td>50.0</td>\n",
       "      <td>0.0</td>\n",
       "      <td>33.333333</td>\n",
       "    </tr>\n",
       "  </tbody>\n",
       "</table>\n",
       "</div>"
      ],
      "text/plain": [
       "     Id    LotArea  FullBath  HalfBath  BedroomAbvGr\n",
       "0  1461  18.414656      25.0       0.0     33.333333\n",
       "1  1462  23.212407      25.0      50.0     50.000000\n",
       "2  1463  22.419735      50.0      50.0     50.000000\n",
       "3  1464  15.432614      50.0      50.0     50.000000\n",
       "4  1465   6.412117      50.0       0.0     33.333333"
      ]
     },
     "execution_count": 24,
     "metadata": {},
     "output_type": "execute_result"
    }
   ],
   "source": [
    "test_df.head()"
   ]
  },
  {
   "cell_type": "markdown",
   "id": "e10dbdf6-e638-42a9-be91-02c5675a1aa6",
   "metadata": {},
   "source": [
    "**checking for missing values if any it would be delt with**"
   ]
  },
  {
   "cell_type": "code",
   "execution_count": 25,
   "id": "66dff2d4-9054-4ac6-86c1-f54339cbd23e",
   "metadata": {},
   "outputs": [
    {
     "name": "stdout",
     "output_type": "stream",
     "text": [
      "Missing Values in Train Data:\n",
      "Id              0\n",
      "LotArea         0\n",
      "FullBath        0\n",
      "HalfBath        0\n",
      "BedroomAbvGr    0\n",
      "SalePrice       0\n",
      "dtype: int64\n"
     ]
    }
   ],
   "source": [
    "print(\"Missing Values in Train Data:\")\n",
    "print(train_df.isnull().sum())"
   ]
  },
  {
   "cell_type": "code",
   "execution_count": 26,
   "id": "36bf6509-5061-4c87-8e4d-7615e007d636",
   "metadata": {},
   "outputs": [
    {
     "name": "stdout",
     "output_type": "stream",
     "text": [
      "Missing Values in Test Data:\n",
      "Id              0\n",
      "LotArea         0\n",
      "FullBath        0\n",
      "HalfBath        0\n",
      "BedroomAbvGr    0\n",
      "dtype: int64\n"
     ]
    }
   ],
   "source": [
    "print(\"Missing Values in Test Data:\")\n",
    "print(test_df.isnull().sum())"
   ]
  },
  {
   "cell_type": "code",
   "execution_count": 27,
   "id": "f5593ab0-f4fd-4210-b4f9-bba5cb9ee8ea",
   "metadata": {},
   "outputs": [],
   "source": [
    "X = train_df.drop('SalePrice', axis=1)\n",
    "y = train_df['SalePrice']"
   ]
  },
  {
   "cell_type": "markdown",
   "id": "68afa661-7581-46ca-a8df-fc3cd9300e86",
   "metadata": {},
   "source": [
    "**spliting the data set**"
   ]
  },
  {
   "cell_type": "code",
   "execution_count": 28,
   "id": "6c386d18-3703-47fa-84ff-b422954a2aa9",
   "metadata": {},
   "outputs": [],
   "source": [
    "X_train, X_valid, y_train, y_valid = train_test_split(X, y, test_size=0.5, random_state=50)"
   ]
  },
  {
   "cell_type": "markdown",
   "id": "c8e69cc8-309e-4115-aeb2-64f0abe16f8f",
   "metadata": {},
   "source": [
    "*Train a Random Forest Regressor model*"
   ]
  },
  {
   "cell_type": "code",
   "execution_count": 29,
   "id": "661c0ee0-405b-4962-938d-a0370aa2bd1e",
   "metadata": {},
   "outputs": [
    {
     "data": {
      "text/html": [
       "<style>#sk-container-id-2 {color: black;}#sk-container-id-2 pre{padding: 0;}#sk-container-id-2 div.sk-toggleable {background-color: white;}#sk-container-id-2 label.sk-toggleable__label {cursor: pointer;display: block;width: 100%;margin-bottom: 0;padding: 0.3em;box-sizing: border-box;text-align: center;}#sk-container-id-2 label.sk-toggleable__label-arrow:before {content: \"▸\";float: left;margin-right: 0.25em;color: #696969;}#sk-container-id-2 label.sk-toggleable__label-arrow:hover:before {color: black;}#sk-container-id-2 div.sk-estimator:hover label.sk-toggleable__label-arrow:before {color: black;}#sk-container-id-2 div.sk-toggleable__content {max-height: 0;max-width: 0;overflow: hidden;text-align: left;background-color: #f0f8ff;}#sk-container-id-2 div.sk-toggleable__content pre {margin: 0.2em;color: black;border-radius: 0.25em;background-color: #f0f8ff;}#sk-container-id-2 input.sk-toggleable__control:checked~div.sk-toggleable__content {max-height: 200px;max-width: 100%;overflow: auto;}#sk-container-id-2 input.sk-toggleable__control:checked~label.sk-toggleable__label-arrow:before {content: \"▾\";}#sk-container-id-2 div.sk-estimator input.sk-toggleable__control:checked~label.sk-toggleable__label {background-color: #d4ebff;}#sk-container-id-2 div.sk-label input.sk-toggleable__control:checked~label.sk-toggleable__label {background-color: #d4ebff;}#sk-container-id-2 input.sk-hidden--visually {border: 0;clip: rect(1px 1px 1px 1px);clip: rect(1px, 1px, 1px, 1px);height: 1px;margin: -1px;overflow: hidden;padding: 0;position: absolute;width: 1px;}#sk-container-id-2 div.sk-estimator {font-family: monospace;background-color: #f0f8ff;border: 1px dotted black;border-radius: 0.25em;box-sizing: border-box;margin-bottom: 0.5em;}#sk-container-id-2 div.sk-estimator:hover {background-color: #d4ebff;}#sk-container-id-2 div.sk-parallel-item::after {content: \"\";width: 100%;border-bottom: 1px solid gray;flex-grow: 1;}#sk-container-id-2 div.sk-label:hover label.sk-toggleable__label {background-color: #d4ebff;}#sk-container-id-2 div.sk-serial::before {content: \"\";position: absolute;border-left: 1px solid gray;box-sizing: border-box;top: 0;bottom: 0;left: 50%;z-index: 0;}#sk-container-id-2 div.sk-serial {display: flex;flex-direction: column;align-items: center;background-color: white;padding-right: 0.2em;padding-left: 0.2em;position: relative;}#sk-container-id-2 div.sk-item {position: relative;z-index: 1;}#sk-container-id-2 div.sk-parallel {display: flex;align-items: stretch;justify-content: center;background-color: white;position: relative;}#sk-container-id-2 div.sk-item::before, #sk-container-id-2 div.sk-parallel-item::before {content: \"\";position: absolute;border-left: 1px solid gray;box-sizing: border-box;top: 0;bottom: 0;left: 50%;z-index: -1;}#sk-container-id-2 div.sk-parallel-item {display: flex;flex-direction: column;z-index: 1;position: relative;background-color: white;}#sk-container-id-2 div.sk-parallel-item:first-child::after {align-self: flex-end;width: 50%;}#sk-container-id-2 div.sk-parallel-item:last-child::after {align-self: flex-start;width: 50%;}#sk-container-id-2 div.sk-parallel-item:only-child::after {width: 0;}#sk-container-id-2 div.sk-dashed-wrapped {border: 1px dashed gray;margin: 0 0.4em 0.5em 0.4em;box-sizing: border-box;padding-bottom: 0.4em;background-color: white;}#sk-container-id-2 div.sk-label label {font-family: monospace;font-weight: bold;display: inline-block;line-height: 1.2em;}#sk-container-id-2 div.sk-label-container {text-align: center;}#sk-container-id-2 div.sk-container {/* jupyter's `normalize.less` sets `[hidden] { display: none; }` but bootstrap.min.css set `[hidden] { display: none !important; }` so we also need the `!important` here to be able to override the default hidden behavior on the sphinx rendered scikit-learn.org. See: https://github.com/scikit-learn/scikit-learn/issues/21755 */display: inline-block !important;position: relative;}#sk-container-id-2 div.sk-text-repr-fallback {display: none;}</style><div id=\"sk-container-id-2\" class=\"sk-top-container\"><div class=\"sk-text-repr-fallback\"><pre>RandomForestRegressor(random_state=42)</pre><b>In a Jupyter environment, please rerun this cell to show the HTML representation or trust the notebook. <br />On GitHub, the HTML representation is unable to render, please try loading this page with nbviewer.org.</b></div><div class=\"sk-container\" hidden><div class=\"sk-item\"><div class=\"sk-estimator sk-toggleable\"><input class=\"sk-toggleable__control sk-hidden--visually\" id=\"sk-estimator-id-2\" type=\"checkbox\" checked><label for=\"sk-estimator-id-2\" class=\"sk-toggleable__label sk-toggleable__label-arrow\">RandomForestRegressor</label><div class=\"sk-toggleable__content\"><pre>RandomForestRegressor(random_state=42)</pre></div></div></div></div></div>"
      ],
      "text/plain": [
       "RandomForestRegressor(random_state=42)"
      ]
     },
     "execution_count": 29,
     "metadata": {},
     "output_type": "execute_result"
    }
   ],
   "source": [
    "model = RandomForestRegressor(n_estimators=100, random_state=42)\n",
    "model.fit(X_train, y_train)"
   ]
  },
  {
   "cell_type": "markdown",
   "id": "8603138b-5e79-48ae-873c-b5ade2904cbe",
   "metadata": {},
   "source": [
    "**Making Predictions on validation set**"
   ]
  },
  {
   "cell_type": "code",
   "execution_count": 30,
   "id": "862cf606-b31b-46d0-86b7-1184fd47b128",
   "metadata": {},
   "outputs": [],
   "source": [
    "y_pred = model.predict(X_valid)"
   ]
  },
  {
   "cell_type": "markdown",
   "id": "4925ab91-8edd-4fae-8bea-8dae579b70e7",
   "metadata": {},
   "source": [
    "### performance evaluation"
   ]
  },
  {
   "cell_type": "code",
   "execution_count": 31,
   "id": "922d595f-9bfa-48c5-a593-8443b6d17b34",
   "metadata": {},
   "outputs": [
    {
     "name": "stdout",
     "output_type": "stream",
     "text": [
      "Mean Squared Error on Validation Set: 80.1709278999033\n"
     ]
    }
   ],
   "source": [
    "mse = mean_squared_error(y_valid, y_pred)\n",
    "print(f'Mean Squared Error on Validation Set: {mse}')"
   ]
  },
  {
   "cell_type": "markdown",
   "id": "bd93a704-1e87-4b4d-9e81-26e84cb218f0",
   "metadata": {},
   "source": [
    "***Visualize the predicted vs. actual prices***"
   ]
  },
  {
   "cell_type": "code",
   "execution_count": 32,
   "id": "868dd9ad-f1f9-430e-a03f-932534fa2910",
   "metadata": {},
   "outputs": [
    {
     "data": {
      "image/png": "[encoded data removed]",
      "text/plain": [
       "<Figure size 640x480 with 1 Axes>"
      ]
     },
     "metadata": {},
     "output_type": "display_data"
    }
   ],
   "source": [
    "plt.scatter(y_valid, y_pred)\n",
    "plt.xlabel('Actual Prices')\n",
    "plt.ylabel('Predicted Prices')\n",
    "plt.title('Actual Prices vs. Predicted Prices')\n",
    "plt.show()"
   ]
  },
  {
   "cell_type": "markdown",
   "id": "4a151cc1-92d3-4a70-9fa8-da7c9dd7fec1",
   "metadata": {},
   "source": [
    "***Make predictions on the test set.  Handle missing values in the test datase***t"
   ]
  },
  {
   "cell_type": "code",
   "execution_count": 37,
   "id": "078c20f8-fbb1-4217-9ee9-7128afbd656f",
   "metadata": {},
   "outputs": [],
   "source": [
    "test_predictions = model.predict(test_df)"
   ]
  },
  {
   "cell_type": "code",
   "execution_count": 38,
   "id": "13737c76-1649-4eea-bc95-653c3c1e157b",
   "metadata": {},
   "outputs": [
    {
     "data": {
      "image/png": "[encoded data removed]",
      "text/plain": [
       "<Figure size 640x480 with 1 Axes>"
      ]
     },
     "metadata": {},
     "output_type": "display_data"
    }
   ],
   "source": [
    "plt.hist(test_predictions, bins=30, edgecolor='black')\n",
    "plt.title('Distribution of Predicted SalePrice in Test Data')\n",
    "plt.xlabel('Predicted SalePrice')\n",
    "plt.ylabel('Frequency')\n",
    "plt.show()"
   ]
  },
  {
   "cell_type": "code",
   "execution_count": 39,
   "id": "69b1a5f6-adad-4c72-a11a-5d53f1d8bc5b",
   "metadata": {},
   "outputs": [],
   "source": [
    "submission_df = pd.DataFrame({'Id': test_df['Id'], 'SalePrice': test_predictions})\n",
    "submission_df.to_csv('submission.csv', index=False)"
   ]
  },
  {
   "cell_type": "markdown",
   "id": "0173feeb-5d30-4d9b-bf85-c74d21468d54",
   "metadata": {},
   "source": [
    "### Visualize the distribution of SalePrice in the training data\r\n"
   ]
  },
  {
   "cell_type": "code",
   "execution_count": 36,
   "id": "340ad7e9-12cb-4af5-8c38-e1f0e1eef483",
   "metadata": {},
   "outputs": [
    {
     "data": {
      "image/png": "[encoded data removed]",
      "text/plain": [
       "<Figure size 640x480 with 1 Axes>"
      ]
     },
     "metadata": {},
     "output_type": "display_data"
    }
   ],
   "source": [
    "plt.hist(y, bins=30, edgecolor='black')\n",
    "plt.title('Distribution of SalePrice in Training Data')\n",
    "plt.xlabel('SalePrice')\n",
    "plt.ylabel('Frequency')\n",
    "plt.show()"
   ]
  },
  {
   "cell_type": "code",
   "execution_count": null,
   "id": "39480079-1745-459e-88a5-e78791fe989d",
   "metadata": {},
   "outputs": [],
   "source": []
  }
 ],
 "metadata": {
  "kernelspec": {
   "display_name": "Python 3 (ipykernel)",
   "language": "python",
   "name": "python3"
  },
  "language_info": {
   "codemirror_mode": {
    "name": "ipython",
    "version": 3
   },
   "file_extension": ".py",
   "mimetype": "text/x-python",
   "name": "python",
   "nbconvert_exporter": "python",
   "pygments_lexer": "ipython3",
   "version": "3.11.7"
  }
 },
 "nbformat": 4,
 "nbformat_minor": 5
}
